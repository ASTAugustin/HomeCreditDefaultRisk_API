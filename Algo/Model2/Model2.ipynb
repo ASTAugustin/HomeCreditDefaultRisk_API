{
 "metadata": {
  "language_info": {
   "codemirror_mode": {
    "name": "ipython",
    "version": 3
   },
   "file_extension": ".py",
   "mimetype": "text/x-python",
   "name": "python",
   "nbconvert_exporter": "python",
   "pygments_lexer": "ipython3",
   "version": "3.7.9-final"
  },
  "orig_nbformat": 2,
  "kernelspec": {
   "name": "python3",
   "display_name": "Python 3",
   "language": "python"
  }
 },
 "nbformat": 4,
 "nbformat_minor": 2,
 "cells": [
  {
   "cell_type": "code",
   "execution_count": 1,
   "metadata": {},
   "outputs": [],
   "source": [
    "import numpy as np\n",
    "import pandas as pd \n",
    "from sklearn.linear_model import LogisticRegressionCV\n",
    "import os\n",
    "import joblib"
   ]
  },
  {
   "cell_type": "code",
   "execution_count": 2,
   "metadata": {},
   "outputs": [],
   "source": [
    "feature_lei = pd.read_csv('./feature_lei.csv')\n",
    "feature_dl = pd.read_csv('./feature_dl.csv')\n",
    "feature_lf = pd.read_csv('./feature_lefei.csv')\n",
    "\n",
    "app_train = pd.read_csv('../input/application_train.csv')\n",
    "train_labels = app_train['TARGET']\n",
    "\n",
    "test_lei = pd.read_csv('./test_lei.csv')\n",
    "test_dl = pd.read_csv('./test_dl.csv')\n",
    "test_lf = pd.read_csv('./test_lefei.csv')\n",
    "\n",
    "test_lei['feature_lei'] = test_lei['TARGET']\n",
    "test_dl['feature_dl'] = test_dl['TARGET']\n",
    "test_dl['feature_lf'] = test_lf['TARGET']\n",
    "\n",
    "test_lei.drop(['TARGET'], axis= 1, inplace = True)\n",
    "test_dl.drop(['TARGET'], axis= 1, inplace = True)\n",
    "test_lf.drop(['TARGET'], axis= 1, inplace = True)\n"
   ]
  },
  {
   "cell_type": "code",
   "execution_count": 3,
   "metadata": {},
   "outputs": [],
   "source": [
    "feature = feature_lei.set_index('SK_ID_CURR').join(feature_dl.set_index('SK_ID_CURR')).join(feature_lf.set_index('SK_ID_CURR'))\n",
    "feature_test = test_lei.set_index('SK_ID_CURR').join(test_dl.set_index('SK_ID_CURR')).join(test_lf.set_index('SK_ID_CURR'))"
   ]
  },
  {
   "cell_type": "code",
   "execution_count": 4,
   "metadata": {},
   "outputs": [],
   "source": [
    "clf_model2 = LogisticRegressionCV(cv=5, random_state=0).fit(feature, train_labels)"
   ]
  },
  {
   "cell_type": "code",
   "execution_count": 5,
   "metadata": {},
   "outputs": [],
   "source": [
    "Y = clf_model2.predict_proba(feature_test)"
   ]
  },
  {
   "cell_type": "code",
   "execution_count": 6,
   "metadata": {},
   "outputs": [],
   "source": [
    "submit = test_lei[['SK_ID_CURR']]\n",
    "submit['TARGET'] = Y[:, 1]\n",
    "submit.to_csv('final.csv', index = False)"
   ]
  },
  {
   "cell_type": "code",
   "execution_count": 7,
   "metadata": {},
   "outputs": [
    {
     "output_type": "execute_result",
     "data": {
      "text/plain": [
       "['./clf_model2.joblib']"
      ]
     },
     "metadata": {},
     "execution_count": 7
    }
   ],
   "source": [
    "joblib.dump(clf_model2, './clf_model2.joblib')"
   ]
  },
  {
   "cell_type": "code",
   "execution_count": null,
   "metadata": {},
   "outputs": [],
   "source": []
  },
  {
   "cell_type": "code",
   "execution_count": null,
   "metadata": {},
   "outputs": [],
   "source": []
  }
 ]
}